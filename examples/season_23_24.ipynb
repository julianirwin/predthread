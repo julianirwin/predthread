{
 "cells": [
  {
   "cell_type": "markdown",
   "metadata": {},
   "source": [
    "# Imports and Setup"
   ]
  },
  {
   "attachments": {},
   "cell_type": "markdown",
   "metadata": {},
   "source": [
    "This is a template file for running an actual season of the game.\n",
    "\n",
    "My simplistic method so far has been to record the metadata for each season in a big dictionary in a python notebook. "
   ]
  },
  {
   "cell_type": "code",
   "execution_count": null,
   "metadata": {},
   "outputs": [],
   "source": [
    "%load_ext autoreload\n",
    "%autoreload 2"
   ]
  },
  {
   "cell_type": "code",
   "execution_count": null,
   "metadata": {},
   "outputs": [],
   "source": [
    "import predthread as pt\n",
    "import pandas as pd\n",
    "from datetime import datetime, timedelta\n",
    "from api_keys import client_id, client_secret, user_agent"
   ]
  },
  {
   "cell_type": "code",
   "execution_count": null,
   "metadata": {},
   "outputs": [],
   "source": [
    "pd.set_option('display.max_columns', None) \n",
    "pd.set_option('display.max_rows', None) \n",
    "# pd.set_option('display.max_colwidth', -1)\n",
    "one_hour = timedelta(hours=1)"
   ]
  },
  {
   "cell_type": "markdown",
   "metadata": {},
   "source": [
    "# Fixtures List"
   ]
  },
  {
   "cell_type": "code",
   "execution_count": null,
   "metadata": {},
   "outputs": [],
   "source": [
    "fixtures = {\n",
    "    \"2\": {\n",
    "        \"HomeTeam\": \"Southampton\",\n",
    "        \"AwayTeam\": \"NorwichCity\",\n",
    "        \"MatchResult\": pt.MatchResult(4, 4),\n",
    "        \"MatchTime\": datetime(2023, 8, 12, 9, 0, 0),\n",
    "        \"URL\": \"https://www.reddit.com/r/SaintsFC/comments/15noalh/prediction_thread_week_2_southampton_norwich_city/\",\n",
    "    },\n",
    "    \"3\": {\n",
    "        \"HomeTeam\": \"PlymouthArgyle\",\n",
    "        \"AwayTeam\": \"Southampton\",\n",
    "        \"MatchResult\": pt.MatchResult(1, 2),\n",
    "        \"MatchTime\": datetime(2023, 8, 19, 6, 30, 0),\n",
    "        \"URL\": \"https://www.reddit.com/r/SaintsFC/comments/15u312d/prediction_thread_week_3_plymouth_argyle/\",\n",
    "    },\n",
    "    \"4\": {\n",
    "        \"HomeTeam\": \"Southampton\",\n",
    "        \"AwayTeam\": \"QPR\",\n",
    "        \"MatchResult\": pt.MatchResult(2, 1),\n",
    "        \"MatchTime\": datetime(2023, 8, 26, 9, 0, 0),\n",
    "        \"URL\": \"https://www.reddit.com/r/SaintsFC/comments/160hbtf/prediction_thread_week_3_southampton_qpr/\",\n",
    "    },\n",
    "    \"5\": {\n",
    "        \"HomeTeam\": \"Sunderland\",\n",
    "        \"AwayTeam\": \"Southampton\",\n",
    "        \"MatchResult\": pt.MatchResult(5, 0),\n",
    "        \"MatchTime\": datetime(2023, 9, 2, 6, 30, 0),\n",
    "        \"URL\": \"https://www.reddit.com/r/SaintsFC/comments/166qq9f/prediction_thread_week_5_sunderland_southampton/\",\n",
    "    },\n",
    "    \"6\": {\n",
    "        \"HomeTeam\": \"Southampton\",\n",
    "        \"AwayTeam\": \"LeicesterCity\",\n",
    "        \"MatchResult\": pt.MatchResult(1, 4),\n",
    "        \"MatchTime\": datetime(2023, 9, 15, 14, 0, 0),\n",
    "        \"URL\": \"https://www.reddit.com/r/SaintsFC/comments/16i1rv1/prediction_thread_week_6_southampton_leicester/\",\n",
    "    },\n",
    "    \"7\": {\n",
    "        \"HomeTeam\": \"Southampton\",\n",
    "        \"AwayTeam\": \"IpswichTown\",\n",
    "        \"MatchResult\": pt.MatchResult(0, 1),\n",
    "        \"MatchTime\": datetime(2023, 9, 19, 13, 45, 0),\n",
    "        \"URL\": \"https://www.reddit.com/r/SaintsFC/comments/16kj8ms/prediction_thread_week_7_southampton_ipswich_town/\",\n",
    "    },\n",
    "    \"8\": {\n",
    "        \"HomeTeam\": \"Middlesbrough\",\n",
    "        \"AwayTeam\": \"Southampton\",\n",
    "        \"MatchResult\": pt.MatchResult(2, 1),\n",
    "        \"MatchTime\": datetime(2023, 9, 23, 9, 0, 0),\n",
    "        \"URL\": \"https://www.reddit.com/r/SaintsFC/comments/16pa2wb/prediction_thread_week_8_middlesbrough_southampton/\",\n",
    "    },\n",
    "    \"9\": {\n",
    "        \"HomeTeam\": \"Southampton\",\n",
    "        \"AwayTeam\": \"LeedsUnited\",\n",
    "        \"MatchResult\": pt.MatchResult(3, 1),\n",
    "        \"MatchTime\": datetime(2023, 9, 30, 6, 30, 0),\n",
    "        \"URL\": \"https://www.reddit.com/r/SaintsFC/comments/16uriwz/prediction_thread_week_9_southampton_leeds/\",\n",
    "    },\n",
    "    \"10\": {\n",
    "        \"HomeTeam\": \"StokeCity\",\n",
    "        \"AwayTeam\": \"Southampton\",\n",
    "        \"MatchResult\": pt.MatchResult(0, 1),\n",
    "        \"MatchTime\": datetime(2023, 10, 3, 14, 0, 0),\n",
    "        \"URL\": \"https://www.reddit.com/r/SaintsFC/comments/16xy38m/prediction_thread_week_10_stoke_city_southampton/\",\n",
    "    },\n",
    "    \"11\": {\n",
    "        \"HomeTeam\": \"Southampton\",\n",
    "        \"AwayTeam\": \"RotherhamUnited\",\n",
    "        \"MatchResult\": pt.MatchResult(1, 1),\n",
    "        \"MatchTime\": datetime(2023, 10, 7, 9, 0, 0),\n",
    "        \"URL\": \"https://www.reddit.com/r/SaintsFC/comments/170wn5u/prediction_thread_week_11_southampton_rotherham/\",\n",
    "    },\n",
    "    \"12\": {\n",
    "        \"HomeTeam\": \"HullCity\",\n",
    "        \"AwayTeam\": \"Southampton\",\n",
    "        \"MatchResult\": pt.MatchResult(1, 2),\n",
    "        \"MatchTime\": datetime(2023, 10, 21, 9, 0, 0),\n",
    "        \"URL\": \"https://www.reddit.com/r/SaintsFC/comments/17bwudc/prediction_thread_week_12_hull_city_southampton/\",\n",
    "    },\n",
    "    \"13\" : { \n",
    "        \"HomeTeam\": \"Preston\",\n",
    "        \"AwayTeam\": \"Southampton\",\n",
    "        \"MatchResult\": pt.MatchResult(2, 2),\n",
    "        \"MatchTime\": datetime(2023, 10, 25, 13, 45),\n",
    "        \"URL\": \"https://www.reddit.com/r/SaintsFC/comments/17eygfd/prediction_thread_week_13_preston_southampton3\",\n",
    "    },\n",
    "    \"14\" : { \n",
    "        \"HomeTeam\": \"Southampton\",\n",
    "        \"AwayTeam\": \"Birmingham City\",\n",
    "        \"MatchResult\": pt.MatchResult(3, 1),\n",
    "        \"MatchTime\": datetime(2023, 10, 28, 6, 30),\n",
    "        \"URL\": \"https://www.reddit.com/r/SaintsFC/comments/17hzmsg/prediction_thread_week_14_southampton_birmingham/\",\n",
    "    },\n",
    "    \"15\" : { \n",
    "        \"HomeTeam\": \"Millwall\",\n",
    "        \"AwayTeam\": \"Southampton\",\n",
    "        \"MatchResult\": pt.MatchResult(0, 1),\n",
    "        \"MatchTime\": datetime(2023, 11, 4, 10, 0),\n",
    "        \"URL\": \"https://www.reddit.com/r/SaintsFC/comments/17mgpwq/prediction_thread_week_15_millwall_southampton/\",\n",
    "    },\n",
    "    \"16\" : { \n",
    "        \"HomeTeam\": \"Southampton\",\n",
    "        \"AwayTeam\": \"West Brom\",\n",
    "        \"MatchResult\": pt.MatchResult(2, 1),\n",
    "        \"MatchTime\": datetime(2023, 11, 11, 9, 0),\n",
    "        \"URL\": \"https://www.reddit.com/r/SaintsFC/comments/17rqf6t/prediction_thread_week_16_southampton_west_brom/\",\n",
    "    },\n",
    "    \"17\" : { \n",
    "        \"HomeTeam\": \"Huddersfield\",\n",
    "        \"AwayTeam\": \"Southampton\",\n",
    "        \"MatchResult\": pt.MatchResult(1, 1),\n",
    "        \"MatchTime\": datetime(2023, 11, 25, 9, 0),\n",
    "        \"URL\": \"https://www.reddit.com/r/SaintsFC/comments/182eycx/prediction_thread_week_17_huddersfield_southampton/\",\n",
    "    },\n",
    "    \"18\" : { \n",
    "        \"HomeTeam\": \"Southampton\",\n",
    "        \"AwayTeam\": \"Bristol City\",\n",
    "        \"MatchResult\": pt.MatchResult(1, 0),\n",
    "        \"MatchTime\": datetime(2023, 11, 29, 13, 45),\n",
    "        \"URL\": \"https://www.reddit.com/r/SaintsFC/comments/185y2v3/prediction_thread_week_18_southampton_bristol_city/\",\n",
    "    },\n",
    "    \"19\" : { \n",
    "        \"HomeTeam\": \"Southampton\",\n",
    "        \"AwayTeam\": \"Cardiff City\",\n",
    "        \"MatchResult\": pt.MatchResult(2, 0),\n",
    "        \"MatchTime\": datetime(2023, 12, 2, 9, 0),\n",
    "        \"URL\": \"https://www.reddit.com/r/SaintsFC/comments/18739c3/prediction_thread_week_19_southampton_cardiff_city/\",\n",
    "    },\n",
    "    \"20\" : { \n",
    "        \"HomeTeam\": \"Watford\",\n",
    "        \"AwayTeam\": \"Southampton\",\n",
    "        \"MatchResult\": pt.MatchResult(1, 1),\n",
    "        \"MatchTime\": datetime(2023, 12, 9, 9, 0),\n",
    "        \"URL\": \"https://www.reddit.com/r/SaintsFC/comments/18d8q52/prediction_thread_week_20_watford_southampton/\",\n",
    "    },\n",
    "    \"21\" : { \n",
    "        \"HomeTeam\": \"Coventry City\",\n",
    "        \"AwayTeam\": \"Southampton\",\n",
    "        \"MatchResult\": pt.MatchResult(1, 1),\n",
    "        \"MatchTime\": datetime(2023, 12, 13, 13, 45),\n",
    "        \"URL\": \"https://www.reddit.com/r/SaintsFC/comments/18g9ad2/prediction_thread_week_21_coventry_city/\",\n",
    "    },\n",
    "    \"22\" : { \n",
    "        \"HomeTeam\": \"Southampton\",\n",
    "        \"AwayTeam\": \"Blackburn\",\n",
    "        \"MatchResult\": pt.MatchResult(4, 0),\n",
    "        \"MatchTime\": datetime(2023, 12, 16, 9, 0),\n",
    "        \"URL\": \"https://www.reddit.com/r/SaintsFC/comments/18jdo1t/prediction_thread_week_22_southampton_blackburn/\",\n",
    "    },\n",
    "    \"23\" : { \n",
    "        \"HomeTeam\": \"QPR\",\n",
    "        \"AwayTeam\": \"Southampton\",\n",
    "        \"MatchResult\": pt.MatchResult(0, 0),\n",
    "        \"MatchTime\": datetime(2023, 12, 23, 9, 0),\n",
    "        \"URL\": \"\",\n",
    "    }\n",
    "}"
   ]
  },
  {
   "cell_type": "code",
   "execution_count": null,
   "metadata": {},
   "outputs": [],
   "source": [
    "print(pt.fbref.match_metadata(23))"
   ]
  },
  {
   "cell_type": "code",
   "execution_count": null,
   "metadata": {},
   "outputs": [],
   "source": [
    "week = \"22\"\n",
    "reddit = pt.open_reddit(client_id, client_secret, user_agent)\n",
    "thread = pt.open_thread(reddit, fixtures[week][\"URL\"])\n",
    "standings = pt.get_standings(thread)\n",
    "predictions = pt.get_predictions(thread, comment_localtime_cutoff=fixtures[week][\"MatchTime\"] - one_hour)\n",
    "updated_standings = pt.update_standings(standings, predictions, true_result=fixtures[week][\"MatchResult\"])"
   ]
  },
  {
   "cell_type": "markdown",
   "metadata": {},
   "source": [
    "# Standings"
   ]
  },
  {
   "cell_type": "code",
   "execution_count": null,
   "metadata": {},
   "outputs": [],
   "source": [
    "standings"
   ]
  },
  {
   "cell_type": "markdown",
   "metadata": {},
   "source": [
    "# Predictions"
   ]
  },
  {
   "cell_type": "code",
   "execution_count": null,
   "metadata": {},
   "outputs": [],
   "source": [
    "predictions"
   ]
  },
  {
   "cell_type": "markdown",
   "metadata": {},
   "source": [
    "# Updated Standings"
   ]
  },
  {
   "cell_type": "markdown",
   "metadata": {},
   "source": [
    "To do:\n",
    "\n",
    "- Add points earned to above table, or add comment to below table\n",
    "- more sorting options\n",
    "- Add a callout for those who got exacts"
   ]
  },
  {
   "cell_type": "code",
   "execution_count": null,
   "metadata": {},
   "outputs": [],
   "source": [
    "# for u in updated_standings.index.tolist()[:10]:\n",
    "#     print(standings[standings.index == u])\n",
    "#     print(predictions[predictions.index == u])\n",
    "#     print()"
   ]
  },
  {
   "cell_type": "code",
   "execution_count": null,
   "metadata": {},
   "outputs": [],
   "source": [
    "updated_standings.sort_values(by=\"Points\", ascending=False)"
   ]
  },
  {
   "cell_type": "markdown",
   "metadata": {},
   "source": [
    "# Standings (Printed)"
   ]
  },
  {
   "cell_type": "code",
   "execution_count": null,
   "metadata": {},
   "outputs": [],
   "source": [
    "print(_updated_standings := pt.report.standings_to_markdown(updated_standings.sort_values(by=\"Points\", ascending=False)))"
   ]
  },
  {
   "cell_type": "markdown",
   "metadata": {},
   "source": [
    "# Post Template"
   ]
  },
  {
   "cell_type": "code",
   "execution_count": null,
   "metadata": {},
   "outputs": [],
   "source": [
    "import re"
   ]
  },
  {
   "cell_type": "code",
   "execution_count": null,
   "metadata": {},
   "outputs": [],
   "source": [
    "def add_user_tags(s):\n",
    "    lines = s.split(\"\\n\")[::-1]\n",
    "    lines_new = []\n",
    "    for i in range(2):\n",
    "        lines_new.append(lines.pop())\n",
    "    for i in range(10):\n",
    "        rest_of_line = re.split(r\"(\\d+ \\| )\", lines.pop(), maxsplit=1)[2]\n",
    "        lines_new.append(f\"{i + 1} | u/\" + rest_of_line)\n",
    "    lines_new += lines[::-1]\n",
    "    return \"\\n\".join(lines_new)"
   ]
  },
  {
   "cell_type": "code",
   "execution_count": null,
   "metadata": {},
   "outputs": [],
   "source": [
    "print(add_user_tags(_updated_standings))"
   ]
  },
  {
   "cell_type": "code",
   "execution_count": null,
   "metadata": {},
   "outputs": [],
   "source": [
    "next_week = str(int(week) + 1)\n",
    "last_week = str(int(week) - 1)\n",
    "\n",
    "print(f\"\"\"\n",
    "# Prediction Thread Week {next_week}: {fixtures[next_week][\"HomeTeam\"]} - {fixtures[next_week][\"AwayTeam\"]}\n",
    "\n",
    "# Home - Away Format\n",
    "\n",
    " - Home: {fixtures[next_week][\"HomeTeam\"]}\n",
    " - Away: {fixtures[next_week][\"AwayTeam\"]}\n",
    "\n",
    "# Game Rules\n",
    "\n",
    " - To play, post a top level comment in this thread at least one hour before kickoff, before lineups are posted. \n",
    " - Follow the format of this example comment: \"4 - 1. Feeling reckless today.\"\n",
    " - Comment format must be \"[Home Score] - [Away Score]. [Explanation, detailed prediction, and general shit talking here.]\"\n",
    " - Scoring:\n",
    "    - **3 points** for an exactly correct prediction.\n",
    "    - **1 points** for a correct result.\n",
    "    - **0 points** for an incorrect result.\n",
    "\n",
    "# Summary of Last Match\n",
    "\n",
    "{fixtures[week][\"URL\"]}\n",
    "\n",
    " - Exacts: {updated_standings.PointsGained.value_counts().get(3, 0)}\n",
    " - Corrects: {updated_standings.PointsGained.value_counts().get(1, 0)}\n",
    " - Total Predictions: {len(predictions)}\n",
    "\n",
    "# Standings\n",
    "{str(add_user_tags(_updated_standings))}\n",
    "\"\"\")"
   ]
  },
  {
   "cell_type": "code",
   "execution_count": null,
   "metadata": {},
   "outputs": [],
   "source": []
  }
 ],
 "metadata": {
  "kernelspec": {
   "display_name": "Python 3",
   "language": "python",
   "name": "python3"
  },
  "language_info": {
   "codemirror_mode": {
    "name": "ipython",
    "version": 3
   },
   "file_extension": ".py",
   "mimetype": "text/x-python",
   "name": "python",
   "nbconvert_exporter": "python",
   "pygments_lexer": "ipython3",
   "version": "3.11.5"
  },
  "orig_nbformat": 4
 },
 "nbformat": 4,
 "nbformat_minor": 2
}
