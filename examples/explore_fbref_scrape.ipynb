{
 "cells": [
  {
   "cell_type": "code",
   "execution_count": 80,
   "metadata": {},
   "outputs": [],
   "source": [
    "import pandas as pd\n",
    "import pendulum"
   ]
  },
  {
   "cell_type": "code",
   "execution_count": 128,
   "metadata": {},
   "outputs": [],
   "source": [
    "def load_schedule_table():\n",
    "    squad_id = \"33c895d4\"\n",
    "    url = f\"https://fbref.com/en/squads/{squad_id}\"\n",
    "    return pd.read_html(url)[1]\n",
    "\n",
    "def get_matchweek(table, i_matchweek):\n",
    "    return table[table.Round == f\"Matchweek {i_matchweek}\"]\n",
    "\n",
    "def home_and_away_team(matchweek):\n",
    "    opponent = matchweek.Opponent.values[0]\n",
    "    if matchweek.Venue.values[0] == \"Home\":\n",
    "        return \"Southampton\", opponent\n",
    "    else:\n",
    "        return opponent, \"Southampton\"\n",
    "\n",
    "def match_time_us_central(matchweek):\n",
    "    uk_timezone = pendulum.timezone('Europe/London')\n",
    "    us_central = pendulum.timezone(\"US/Central\")\n",
    "    y, m, d = [int(x) for x in matchweek.Date.values[0].split(\"-\")]\n",
    "    h, min = [int(x) for x in matchweek.Time.values[0].split(\":\")]\n",
    "    return pendulum.datetime(y, m, d, h, min, tz=uk_timezone).astimezone(us_central)\n",
    "\n",
    "def match_metadata(i_matchweek):\n",
    "    matchweek = get_matchweek(load_schedule_table(), i_matchweek)\n",
    "    home_team, away_team = home_and_away_team(matchweek)\n",
    "    dt = match_time_us_central(matchweek)\n",
    "    return f'''\n",
    "{i_matchweek} : {{ \n",
    "    \"HomeTeam\": \"{home_team}\",\n",
    "    \"AwayTeam\": \"{away_team}\",\n",
    "    \"MatchResult\": pt.MatchResult(0, 0),\n",
    "    \"MatchTime\": datetime({dt.year}, {dt.month}, {dt.day}, {dt.hour}, {dt.minute}),\n",
    "    \"URL\": \"\",\n",
    "}}'''"
   ]
  },
  {
   "cell_type": "code",
   "execution_count": 129,
   "metadata": {},
   "outputs": [
    {
     "name": "stdout",
     "output_type": "stream",
     "text": [
      "\n",
      "11 : { \n",
      "    \"HomeTeam\": \"Southampton\",\n",
      "    \"AwayTeam\": \"Rotherham Utd\",\n",
      "    \"MatchResult\": pt.MatchResult(0, 0),\n",
      "    \"MatchTime\": datetime(2023, 10, 7, 9, 0),\n",
      "    \"URL\": \"\",\n",
      "}\n"
     ]
    }
   ],
   "source": [
    "df = load_schedule_table()\n",
    "mw = get_matchweek(df, 11)\n",
    "home_and_away_team(mw)\n",
    "dt = match_time_us_central(mw)\n",
    "print(match_metadata(11))"
   ]
  },
  {
   "cell_type": "code",
   "execution_count": 95,
   "metadata": {},
   "outputs": [
    {
     "data": {
      "text/plain": [
       "2023"
      ]
     },
     "execution_count": 95,
     "metadata": {},
     "output_type": "execute_result"
    }
   ],
   "source": [
    "dt.year"
   ]
  },
  {
   "cell_type": "code",
   "execution_count": 88,
   "metadata": {},
   "outputs": [
    {
     "data": {
      "text/plain": [
       "('15', '00')"
      ]
     },
     "execution_count": 88,
     "metadata": {},
     "output_type": "execute_result"
    }
   ],
   "source": [
    "h, m = mw.Time.values[0].split(\":\")\n",
    "h, m"
   ]
  }
 ],
 "metadata": {
  "kernelspec": {
   "display_name": "Python 3",
   "language": "python",
   "name": "python3"
  },
  "language_info": {
   "codemirror_mode": {
    "name": "ipython",
    "version": 3
   },
   "file_extension": ".py",
   "mimetype": "text/x-python",
   "name": "python",
   "nbconvert_exporter": "python",
   "pygments_lexer": "ipython3",
   "version": "3.11.5"
  },
  "orig_nbformat": 4
 },
 "nbformat": 4,
 "nbformat_minor": 2
}
