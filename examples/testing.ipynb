{
 "cells": [
  {
   "cell_type": "code",
   "execution_count": 1,
   "metadata": {},
   "outputs": [],
   "source": [
    "%load_ext autoreload\n",
    "%autoreload 2"
   ]
  },
  {
   "cell_type": "code",
   "execution_count": 2,
   "metadata": {},
   "outputs": [],
   "source": [
    "import predthread as pt\n",
    "import datetime\n",
    "from functools import partial"
   ]
  },
  {
   "cell_type": "code",
   "execution_count": 3,
   "metadata": {},
   "outputs": [
    {
     "data": {
      "text/plain": [
       "(1, 2)"
      ]
     },
     "execution_count": 3,
     "metadata": {},
     "output_type": "execute_result"
    }
   ],
   "source": [
    "pt.first_two_ints_in_comment(\"1 - 2. Saints are going down. Could loose by 8 goals\")"
   ]
  },
  {
   "cell_type": "code",
   "execution_count": 4,
   "metadata": {},
   "outputs": [
    {
     "data": {
      "text/plain": [
       "{'mcsgwigga': 14,\n",
       " 'BlameTibor': 13,\n",
       " 'Seph_che': 13,\n",
       " 'Cervix-Pounder': 12,\n",
       " 'Zou-KaiLi': 12,\n",
       " 'TheFuzzyEucalyptus': 11,\n",
       " 'oldredstang66': 11,\n",
       " 'lakermamba1999': 10}"
      ]
     },
     "execution_count": 4,
     "metadata": {},
     "output_type": "execute_result"
    }
   ],
   "source": [
    "markdown_str = \"\"\"\n",
    "# Home - Away Format\n",
    "\n",
    "Comment like \"2 - 1. ⛏️⛏️⛏️\"\n",
    "\n",
    "Get you  predictions in one hour before kickoff, before lineups are posted.\n",
    "\n",
    "# Standings\n",
    "\n",
    "User|Points\n",
    ":--|:--|:--\n",
    "mcsgwigga | 14\n",
    "BlameTibor | 13\n",
    "Seph_che | 13\n",
    "Cervix-Pounder | 12\n",
    "Zou-KaiLi | 12\n",
    "TheFuzzyEucalyptus | 11\n",
    "oldredstang66 | 11\n",
    "lakermamba1999 | 10\n",
    "\"\"\"\n",
    "pt.standings_dict_from_self_text(markdown_str)"
   ]
  },
  {
   "cell_type": "code",
   "execution_count": 5,
   "metadata": {},
   "outputs": [],
   "source": [
    "reddit = pt.open_reddit()"
   ]
  },
  {
   "cell_type": "code",
   "execution_count": 6,
   "metadata": {},
   "outputs": [],
   "source": [
    "thread = pt.open_thread(reddit, \"https://www.reddit.com/r/SaintsFC/comments/10hibga/prediction_thread_week_20_southampton_aston_villa/\")"
   ]
  },
  {
   "cell_type": "code",
   "execution_count": 7,
   "metadata": {},
   "outputs": [
    {
     "name": "stdout",
     "output_type": "stream",
     "text": [
      "# Home - Away Format\n",
      "\n",
      "Comment like \"2 - 1. ⛏️⛏️⛏️\"\n",
      "\n",
      "Get you  predictions in one hour before kickoff, before lineups are posted.\n",
      "\n",
      "# Standings\n",
      "\n",
      "User|Points\n",
      ":--|:--|:--\n",
      "mcsgwigga | 14\n",
      "BlameTibor | 13\n",
      "Seph_che | 13\n",
      "Cervix-Pounder | 12\n",
      "Zou-KaiLi | 12\n",
      "TheFuzzyEucalyptus | 11\n",
      "oldredstang66 | 11\n",
      "lakermamba1999 | 10\n",
      "jpergsr | 10\n",
      "kyleandrew_7 | 9\n",
      "KingHarpoon616 | 9\n",
      "ThatMoodyBstard | 9\n",
      "gradi3nt | 9\n",
      "redditbanana42 | 9\n",
      "UtterlyRedditculous | 9\n",
      "nape27 | 8\n",
      "BJH19 | 8\n",
      "lpgkdig | 8\n",
      "MICOTINATE | 8\n",
      "496e636f676e69746f | 8\n",
      "CowboyTrumpet | 7\n",
      "Vsovs | 7\n",
      "DrShaftmanPhD | 7\n",
      "TheHeuman | 7\n",
      "pishkabob | 7\n",
      "uuuuuuuhhhhh | 7\n",
      "HandsomedanNZ | 6\n",
      "dan_3 | 6\n",
      "ResolutionMoney1390 | 6\n",
      "delegod1 | 6\n",
      "teuridge | 6\n",
      "Zapdosman | 6\n",
      "COYQuakes | 6\n",
      "rleniar | 6\n",
      "malkusm | 6\n",
      "meteoritee | 6\n",
      "saint-86 | 6\n",
      "thinlike_napkins | 6\n",
      "Tavanaxx | 6\n",
      "TheDevilishSaint | 6\n",
      "Jackm98_ | 6\n",
      "toufail | 5\n",
      "slugmaniac | 5\n",
      "Adziboy | 5\n",
      "hAkonf | 5\n",
      "lemezier | 5\n",
      "Dr-Honks | 5\n",
      "FitzRoyced | 5\n",
      "Murky-Atmosphere442 | 5\n",
      "jrdn1616 | 5\n",
      "strider_tom | 5\n",
      "meehaja | 5\n",
      "accidentalsalmon | 5\n",
      "mdubyo | 4\n",
      "aredditusername69 | 4\n",
      "3ch03d | 4\n",
      "Relevant_Rev | 4\n",
      "magneticacorn | 4\n",
      "spankeycakes | 4\n",
      "Jimmmmmmmmmmmmmmmmbo | 4\n",
      "thatcrazyhorse | 4\n",
      "Henghast | 4\n",
      "thisisclassicus | 4\n",
      "OneDustyMustang | 4\n",
      "chebalebs | 3\n",
      "Rusty_kettle0708 | 3\n",
      "Many_Background_3679 | 3\n",
      "wi11iam-b | 3\n",
      "pm_me_jk_dont | 3\n",
      "Patentlyy | 3\n",
      "BlueInq | 3\n",
      "JAChambel | 3\n",
      "MangerDanger1 | 3\n",
      "Pizzapete32 | 3\n",
      "Gh0st-Redd1t0r | 3\n",
      "LordOrtus | 3\n",
      "FluffyMan763 | 3\n",
      "IgneousWolfgang | 3\n",
      "TripleTwix | 3\n",
      "nomfull | 3\n",
      "MAFIAxMaverick | 3\n",
      "TheGsandOs | 3\n",
      "Notional- | 3\n",
      "OfTheToole | 3\n",
      "MetaRift | 3\n",
      "thatssosickbro | 3\n",
      "fluffyplayery | 3\n",
      "deludedpossum | 3\n",
      "Zakedawn | 2\n",
      "LovingCatholicPriest | 2\n",
      "jayforplay | 2\n",
      "stb_1992 | 2\n",
      "bstev97 | 2\n",
      "rapsin4lmao | 2\n",
      "bearlegion | 2\n",
      "pjanic-at-the-isco | 2\n",
      "Bruceplanet | 2\n",
      "brandonouthouse | 2\n",
      "Menulem | 2\n",
      "HelloMyNameIs_JOSH_ | 2\n",
      "GordonRamsayGhost | 2\n",
      "PruskiUK | 2\n",
      "Healthy-Grocery6055 | 2\n",
      "Deadpooldan | 2\n",
      "Antidote-Killer | 1\n",
      "Saint-Djenepo | 1\n",
      "MrMooseanatorR | 1\n",
      "kaitonoob | 1\n",
      "sgm94 | 1\n",
      "mn09cr | 1\n",
      "The-Wanderer-01 | 1\n",
      "tatasinke | 1\n",
      "-Belon- | 1\n",
      "wostmardin | 1\n",
      "JimmyRiddle707 | 1\n",
      "TehSpaceGiraffe | 1\n",
      "Pinkerton891 | 1\n",
      "Ugandan-Kermit | 1\n",
      "GrandmasterYoda1 | 1\n",
      "MrJoshua_182 | 1\n",
      "SaintFPL | 1\n",
      "soverign_cheese | 1\n",
      "Anglo-fornian | 1\n",
      "rustychuff | 1\n",
      "K3GGY | 1\n",
      "Distinct_Sink_6880 | 1\n",
      "LewisJP1998 | 1\n",
      "breakingthru | 1\n",
      "Mitestrix | 1\n",
      "ohnonotagain343 | 1\n",
      "Intermittent-Thinker | 1\n",
      "dessamavididi | 1\n",
      "Bus-Ready | 1\n",
      "AliDiaaa | 1\n",
      "MisterFreddo | 1\n",
      "Tspecs05 | 1\n",
      "SylvianSylvian | 1\n",
      "senpaifrankucomeback | 1\n",
      "MonarchyBoner | 1\n",
      "MrRyan1320 | 1\n",
      "InfernoTurnip | 1\n",
      "MyoMike | 1\n",
      "Rob_Boss91 | 1\n",
      "darave123 | 1\n",
      "J_Dymond | 1\n",
      "Squm9 | 1\n",
      "kbwis | 1\n",
      "AryLink1990 | 1\n",
      "jakeyboy723 | 1\n",
      "fletch6h | 1\n",
      "BanjoPants74 | 1\n",
      "saintstu | 1\n",
      "Couchy333 | 1\n",
      "BobMcCully | 1\n",
      "_Bluestar_Bus_Soton_ | 1\n",
      "supero_ | 1\n"
     ]
    }
   ],
   "source": [
    "print(thread.selftext)"
   ]
  },
  {
   "cell_type": "code",
   "execution_count": 13,
   "metadata": {},
   "outputs": [
    {
     "name": "stdout",
     "output_type": "stream",
     "text": [
      "True\n",
      "False\n",
      "False\n",
      "False\n",
      "False\n",
      "False\n",
      "True\n",
      "True\n",
      "False\n",
      "True\n"
     ]
    }
   ],
   "source": [
    "match_time = datetime.datetime(2023, 1, 21, 0, 0, 0)\n",
    "for comment in thread.comments[:10]:\n",
    "    print(pt.comment_created_before(match_time, comment))"
   ]
  },
  {
   "cell_type": "code",
   "execution_count": 16,
   "metadata": {},
   "outputs": [
    {
     "data": {
      "text/plain": [
       "(Comment(id='j58oifw'),\n",
       " Comment(id='j58m7ga'),\n",
       " Comment(id='j58ogox'),\n",
       " Comment(id='j58qjy0'),\n",
       " Comment(id='j58r2ld'),\n",
       " Comment(id='j58s2um'),\n",
       " Comment(id='j58t9n5'),\n",
       " Comment(id='j58v7k0'),\n",
       " Comment(id='j58vcks'))"
      ]
     },
     "execution_count": 16,
     "metadata": {},
     "output_type": "execute_result"
    }
   ],
   "source": [
    "url =  \"https://www.reddit.com/r/SaintsFC/comments/10hibga/prediction_thread_week_20_southampton_aston_villa/\"\n",
    "match_time = datetime.datetime(2023, 1, 21, 0, 0, 0)\n",
    "lineups_posted_time = match_time - datetime.timedelta(hours=1)\n",
    "\n",
    "before_lineups_posted = partial(pt.comment_created_before, match_time)\n",
    "conditions = (\n",
    "    pt.comment_author_not_none, \n",
    "    before_lineups_posted\n",
    ")\n",
    "\n",
    "tuple(pt.filtered_comments(thread.comments, *conditions))"
   ]
  },
  {
   "cell_type": "code",
   "execution_count": null,
   "metadata": {},
   "outputs": [],
   "source": []
  }
 ],
 "metadata": {
  "kernelspec": {
   "display_name": "Python 3",
   "language": "python",
   "name": "python3"
  },
  "language_info": {
   "codemirror_mode": {
    "name": "ipython",
    "version": 3
   },
   "file_extension": ".py",
   "mimetype": "text/x-python",
   "name": "python",
   "nbconvert_exporter": "python",
   "pygments_lexer": "ipython3",
   "version": "3.9.5"
  },
  "orig_nbformat": 4,
  "vscode": {
   "interpreter": {
    "hash": "7812ea015bdcee6f23a998adcdd2ef97c151c0c241b7b7070987d9313e41299d"
   }
  }
 },
 "nbformat": 4,
 "nbformat_minor": 2
}
