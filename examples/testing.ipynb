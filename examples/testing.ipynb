{
 "cells": [
  {
   "cell_type": "code",
   "execution_count": 1,
   "metadata": {},
   "outputs": [],
   "source": [
    "%load_ext autoreload\n",
    "%autoreload 2"
   ]
  },
  {
   "cell_type": "code",
   "execution_count": 2,
   "metadata": {},
   "outputs": [],
   "source": [
    "import predthread as pt\n",
    "import datetime\n",
    "from functools import partial"
   ]
  },
  {
   "cell_type": "code",
   "execution_count": 3,
   "metadata": {},
   "outputs": [],
   "source": [
    "reddit = pt.open_reddit()"
   ]
  },
  {
   "cell_type": "code",
   "execution_count": 4,
   "metadata": {},
   "outputs": [
    {
     "data": {
      "text/plain": [
       "{'rapsin4lmao': \"2-0. JWP two direct free kicks to tie Beckham's record.\",\n",
       " 'Zakedawn': '1-3. Reality check',\n",
       " 'Zou-KaiLi': \"0-2 Home curse. Good times can't keep rolling.\",\n",
       " 'ResolutionMoney1390': '4-1. We thoroughly smash Villa, a club which I dislike.',\n",
       " 'TheDevilishSaint': \"1-2. Under Emery I just think they're far better than us. Was actually surprised to see s many predict us to win. Hope for a 2-1 tho.\",\n",
       " 'Salt-Cup-2300': '6-0 all jwp free kicks',\n",
       " 'gradi3nt': '2 - 1. ⛏️⛏️⛏️',\n",
       " 'delegod1': '2-1 another silly goal and no clean sheet. NJ goes ballistic over the 6,000th silly goal',\n",
       " 'MangerDanger1': 'Saints 3 - 1 Villa\\n\\nSend them to the mines',\n",
       " 'kyleandrew_7': '3-1',\n",
       " 'spankeycakes': '2-2',\n",
       " '3ch03d': '2-1',\n",
       " 'Relevant_Rev': '3-2 saints',\n",
       " 'DrShaftmanPhD': '2-0',\n",
       " 'MetaRift': '2-1',\n",
       " 'Anglo-fornian': '3-2',\n",
       " 'TheHeuman': '3-2',\n",
       " 'COYQuakes': '1-1',\n",
       " 'Jdsudz': '2-0',\n",
       " 'hAkonf': '1-2',\n",
       " 'Many_Background_3679': '2-1 come on saints!!',\n",
       " 'Seph_che': '1-2',\n",
       " '496e636f676e69746f': '1-1',\n",
       " 'strider_tom': 'Southampton 1-2 Aston Villa',\n",
       " 'meteoritee': '1-1',\n",
       " 'Saint-Djenepo': '1-0',\n",
       " 'uuuuuuuhhhhh': '0-3',\n",
       " 'HandsomedanNZ': '2-1\\n\\nSaints to come back after going down 1-0.',\n",
       " 'MrMooseanatorR': '3-0, 2 goals in the first half',\n",
       " 'jayforplay': '3-2',\n",
       " 'UtterlyRedditculous': '2-0',\n",
       " 'teuridge': '1-1',\n",
       " 'slugmaniac': '1-0',\n",
       " 'PeachyBums': '0-1 :(',\n",
       " 'accidentalsalmon': '2-1. JWP again?',\n",
       " 'AKExperience': '2-2',\n",
       " 'jackodriscol': '2-1 sauces',\n",
       " 'redditbanana42': '1-1',\n",
       " 'mcsgwigga': '1-2',\n",
       " 'aredditusername69': '2-1 Saints.',\n",
       " 'CowboyTrumpet': '0-2\\n\\nReverse psychology',\n",
       " 'Zapdosman': '1-1',\n",
       " 'Rusty_kettle0708': '1 - 0   🟥⬜️🟥⬜️',\n",
       " 'lpgkdig': '1-3',\n",
       " 'saint-86': '2-1',\n",
       " 'chebalebs': '1-2',\n",
       " 'ThatMoodyBstard': '1-1',\n",
       " 'mdubyo': '2-1 - Orsic pulls us out of the relegation zone with a late goal.',\n",
       " 'Henghast': ' 1 - 2 Villa edge us out',\n",
       " 'Antidote-Killer': '1-0, Che Adams scores a stunner around the 70th minute to win the game',\n",
       " 'magneticacorn': \"0-1. Hope I'm wrong\",\n",
       " 'pishkabob': '1-3',\n",
       " 'BJH19': '3-1',\n",
       " 'Vsovs': '1-1',\n",
       " 'JimmyRiddle707': '1 - 0',\n",
       " 'FitzRoyced': '2 - 1',\n",
       " 'whowantstogo': '2-0 saints',\n",
       " 'Ollie-Wilson': '1-0',\n",
       " 'TheFuzzyEucalyptus': '1-2. We also seem to struggle and their fans are always insufferable about it, I don’t suppose this time will be any different.'}"
      ]
     },
     "execution_count": 4,
     "metadata": {},
     "output_type": "execute_result"
    }
   ],
   "source": [
    "url_previous_week = \"https://www.reddit.com/r/SaintsFC/comments/10awes0/prediction_thread_18_everton_southapmton/\"\n",
    "thread = pt.open_thread(reddit, url_previous_week)\n",
    "standings = pt.get_standings(thread)\n",
    "\n",
    "\n",
    "url =  \"https://www.reddit.com/r/SaintsFC/comments/10hibga/prediction_thread_week_20_southampton_aston_villa/\"\n",
    "match_time = datetime.datetime(2023, 1, 21, 8, 0, 0)\n",
    "lineups_posted_time = match_time - datetime.timedelta(hours=1)\n",
    "\n",
    "thread = pt.open_thread(reddit, url)\n",
    "\n",
    "before_lineups_posted = partial(pt.reddit.comment_created_before, match_time)\n",
    "conditions = (\n",
    "    pt.reddit.comment_author_not_none, \n",
    "    before_lineups_posted\n",
    ")\n",
    "\n",
    "valid_comments = pt.reddit.filtered_comments(thread.comments, *conditions)\n",
    "pt.reddit.comments_dict(valid_comments)"
   ]
  },
  {
   "cell_type": "code",
   "execution_count": 5,
   "metadata": {},
   "outputs": [],
   "source": [
    "pt.get_predictions(thread)"
   ]
  }
 ],
 "metadata": {
  "kernelspec": {
   "display_name": "Python 3",
   "language": "python",
   "name": "python3"
  },
  "language_info": {
   "codemirror_mode": {
    "name": "ipython",
    "version": 3
   },
   "file_extension": ".py",
   "mimetype": "text/x-python",
   "name": "python",
   "nbconvert_exporter": "python",
   "pygments_lexer": "ipython3",
   "version": "3.9.5"
  },
  "orig_nbformat": 4,
  "vscode": {
   "interpreter": {
    "hash": "7812ea015bdcee6f23a998adcdd2ef97c151c0c241b7b7070987d9313e41299d"
   }
  }
 },
 "nbformat": 4,
 "nbformat_minor": 2
}
