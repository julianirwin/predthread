{
 "cells": [
  {
   "cell_type": "code",
   "execution_count": 1,
   "metadata": {},
   "outputs": [],
   "source": [
    "%load_ext autoreload\n",
    "%autoreload 2"
   ]
  },
  {
   "cell_type": "code",
   "execution_count": 4,
   "metadata": {},
   "outputs": [],
   "source": [
    "from predthread.parsers import first_two_ints_in_comment, markdown_to_standings"
   ]
  },
  {
   "cell_type": "code",
   "execution_count": 5,
   "metadata": {},
   "outputs": [
    {
     "data": {
      "text/plain": [
       "['1', '2']"
      ]
     },
     "execution_count": 5,
     "metadata": {},
     "output_type": "execute_result"
    }
   ],
   "source": [
    "first_two_ints_in_comment(\"1 - 2. Saints are going down. Could loose by 8 goals\")"
   ]
  },
  {
   "cell_type": "code",
   "execution_count": 7,
   "metadata": {},
   "outputs": [
    {
     "data": {
      "text/plain": [
       "{'mcsgwigga': 14,\n",
       " 'BlameTibor': 13,\n",
       " 'Seph_che': 13,\n",
       " 'Cervix-Pounder': 12,\n",
       " 'Zou-KaiLi': 12,\n",
       " 'TheFuzzyEucalyptus': 11,\n",
       " 'oldredstang66': 11,\n",
       " 'lakermamba1999': 10}"
      ]
     },
     "execution_count": 7,
     "metadata": {},
     "output_type": "execute_result"
    }
   ],
   "source": [
    "markdown_str = \"\"\"\n",
    "# Home - Away Format\n",
    "\n",
    "Comment like \"2 - 1. ⛏️⛏️⛏️\"\n",
    "\n",
    "Get you  predictions in one hour before kickoff, before lineups are posted.\n",
    "\n",
    "# Standings\n",
    "\n",
    "User|Points\n",
    ":--|:--|:--\n",
    "mcsgwigga | 14\n",
    "BlameTibor | 13\n",
    "Seph_che | 13\n",
    "Cervix-Pounder | 12\n",
    "Zou-KaiLi | 12\n",
    "TheFuzzyEucalyptus | 11\n",
    "oldredstang66 | 11\n",
    "lakermamba1999 | 10\n",
    "\"\"\"\n",
    "markdown_to_standings(markdown_str)"
   ]
  },
  {
   "cell_type": "code",
   "execution_count": null,
   "metadata": {},
   "outputs": [],
   "source": []
  }
 ],
 "metadata": {
  "kernelspec": {
   "display_name": "Python 3",
   "language": "python",
   "name": "python3"
  },
  "language_info": {
   "codemirror_mode": {
    "name": "ipython",
    "version": 3
   },
   "file_extension": ".py",
   "mimetype": "text/x-python",
   "name": "python",
   "nbconvert_exporter": "python",
   "pygments_lexer": "ipython3",
   "version": "3.9.5"
  },
  "orig_nbformat": 4,
  "vscode": {
   "interpreter": {
    "hash": "7812ea015bdcee6f23a998adcdd2ef97c151c0c241b7b7070987d9313e41299d"
   }
  }
 },
 "nbformat": 4,
 "nbformat_minor": 2
}
