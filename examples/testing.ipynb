{
 "cells": [
  {
   "cell_type": "code",
   "execution_count": 1,
   "metadata": {},
   "outputs": [],
   "source": [
    "%load_ext autoreload\n",
    "%autoreload 2"
   ]
  },
  {
   "cell_type": "code",
   "execution_count": 2,
   "metadata": {},
   "outputs": [],
   "source": [
    "import predthread as pt\n",
    "import datetime\n",
    "from functools import partial"
   ]
  },
  {
   "cell_type": "code",
   "execution_count": 3,
   "metadata": {},
   "outputs": [
    {
     "data": {
      "text/plain": [
       "(1, 2)"
      ]
     },
     "execution_count": 3,
     "metadata": {},
     "output_type": "execute_result"
    }
   ],
   "source": [
    "pt.parse._first_two_ints_in_comment(\"1 - 2. Saints are going down. Could loose by 8 goals\")"
   ]
  },
  {
   "cell_type": "code",
   "execution_count": 4,
   "metadata": {},
   "outputs": [
    {
     "data": {
      "text/plain": [
       "{'mcsgwigga': 14,\n",
       " 'BlameTibor': 13,\n",
       " 'Seph_che': 13,\n",
       " 'Cervix-Pounder': 12,\n",
       " 'Zou-KaiLi': 12,\n",
       " 'TheFuzzyEucalyptus': 11,\n",
       " 'oldredstang66': 11,\n",
       " 'lakermamba1999': 10}"
      ]
     },
     "execution_count": 4,
     "metadata": {},
     "output_type": "execute_result"
    }
   ],
   "source": [
    "markdown_str = \"\"\"\n",
    "# Home - Away Format\n",
    "\n",
    "Comment like \"2 - 1. ⛏️⛏️⛏️\"\n",
    "\n",
    "Get you  predictions in one hour before kickoff, before lineups are posted.\n",
    "\n",
    "# Standings\n",
    "\n",
    "User|Points\n",
    ":--|:--|:--\n",
    "mcsgwigga | 14\n",
    "BlameTibor | 13\n",
    "Seph_che | 13\n",
    "Cervix-Pounder | 12\n",
    "Zou-KaiLi | 12\n",
    "TheFuzzyEucalyptus | 11\n",
    "oldredstang66 | 11\n",
    "lakermamba1999 | 10\n",
    "\"\"\"\n",
    "pt.parse.standings(markdown_str)"
   ]
  },
  {
   "cell_type": "code",
   "execution_count": 5,
   "metadata": {},
   "outputs": [],
   "source": [
    "reddit = pt.open_reddit()"
   ]
  },
  {
   "cell_type": "code",
   "execution_count": 6,
   "metadata": {},
   "outputs": [],
   "source": [
    "thread = pt.open_thread(reddit, \"https://www.reddit.com/r/SaintsFC/comments/10hibga/prediction_thread_week_20_southampton_aston_villa/\")"
   ]
  },
  {
   "cell_type": "code",
   "execution_count": 7,
   "metadata": {},
   "outputs": [
    {
     "name": "stdout",
     "output_type": "stream",
     "text": [
      "# Home - Away Format\n",
      "\n",
      "Comment like \"2 - 1. ⛏️⛏️⛏️\"\n",
      "\n",
      "Get you  predictions in one hour before kickoff, before lineups are posted.\n",
      "\n",
      "# Standings\n",
      "\n",
      "User|Points\n",
      ":--|:--|:--\n",
      "mcsgwigga | 14\n",
      "BlameTibor | 13\n",
      "Seph_che | 13\n",
      "Cervix-Pounder | 12\n",
      "Zou-KaiLi | 12\n",
      "TheFuzzyEucalyptus | 11\n",
      "oldredstang66 | 11\n",
      "lakermamba1999 | 10\n",
      "jpergsr | 10\n",
      "kyleandrew_7 | 9\n",
      "KingHarpoon616 | 9\n",
      "ThatMoodyBstard | 9\n",
      "gradi3nt | 9\n",
      "redditbanana42 | 9\n",
      "UtterlyRedditculous | 9\n",
      "nape27 | 8\n",
      "BJH19 | 8\n",
      "lpgkdig | 8\n",
      "MICOTINATE | 8\n",
      "496e636f676e69746f | 8\n",
      "CowboyTrumpet | 7\n",
      "Vsovs | 7\n",
      "DrShaftmanPhD | 7\n",
      "TheHeuman | 7\n",
      "pishkabob | 7\n",
      "uuuuuuuhhhhh | 7\n",
      "HandsomedanNZ | 6\n",
      "dan_3 | 6\n",
      "ResolutionMoney1390 | 6\n",
      "delegod1 | 6\n",
      "teuridge | 6\n",
      "Zapdosman | 6\n",
      "COYQuakes | 6\n",
      "rleniar | 6\n",
      "malkusm | 6\n",
      "meteoritee | 6\n",
      "saint-86 | 6\n",
      "thinlike_napkins | 6\n",
      "Tavanaxx | 6\n",
      "TheDevilishSaint | 6\n",
      "Jackm98_ | 6\n",
      "toufail | 5\n",
      "slugmaniac | 5\n",
      "Adziboy | 5\n",
      "hAkonf | 5\n",
      "lemezier | 5\n",
      "Dr-Honks | 5\n",
      "FitzRoyced | 5\n",
      "Murky-Atmosphere442 | 5\n",
      "jrdn1616 | 5\n",
      "strider_tom | 5\n",
      "meehaja | 5\n",
      "accidentalsalmon | 5\n",
      "mdubyo | 4\n",
      "aredditusername69 | 4\n",
      "3ch03d | 4\n",
      "Relevant_Rev | 4\n",
      "magneticacorn | 4\n",
      "spankeycakes | 4\n",
      "Jimmmmmmmmmmmmmmmmbo | 4\n",
      "thatcrazyhorse | 4\n",
      "Henghast | 4\n",
      "thisisclassicus | 4\n",
      "OneDustyMustang | 4\n",
      "chebalebs | 3\n",
      "Rusty_kettle0708 | 3\n",
      "Many_Background_3679 | 3\n",
      "wi11iam-b | 3\n",
      "pm_me_jk_dont | 3\n",
      "Patentlyy | 3\n",
      "BlueInq | 3\n",
      "JAChambel | 3\n",
      "MangerDanger1 | 3\n",
      "Pizzapete32 | 3\n",
      "Gh0st-Redd1t0r | 3\n",
      "LordOrtus | 3\n",
      "FluffyMan763 | 3\n",
      "IgneousWolfgang | 3\n",
      "TripleTwix | 3\n",
      "nomfull | 3\n",
      "MAFIAxMaverick | 3\n",
      "TheGsandOs | 3\n",
      "Notional- | 3\n",
      "OfTheToole | 3\n",
      "MetaRift | 3\n",
      "thatssosickbro | 3\n",
      "fluffyplayery | 3\n",
      "deludedpossum | 3\n",
      "Zakedawn | 2\n",
      "LovingCatholicPriest | 2\n",
      "jayforplay | 2\n",
      "stb_1992 | 2\n",
      "bstev97 | 2\n",
      "rapsin4lmao | 2\n",
      "bearlegion | 2\n",
      "pjanic-at-the-isco | 2\n",
      "Bruceplanet | 2\n",
      "brandonouthouse | 2\n",
      "Menulem | 2\n",
      "HelloMyNameIs_JOSH_ | 2\n",
      "GordonRamsayGhost | 2\n",
      "PruskiUK | 2\n",
      "Healthy-Grocery6055 | 2\n",
      "Deadpooldan | 2\n",
      "Antidote-Killer | 1\n",
      "Saint-Djenepo | 1\n",
      "MrMooseanatorR | 1\n",
      "kaitonoob | 1\n",
      "sgm94 | 1\n",
      "mn09cr | 1\n",
      "The-Wanderer-01 | 1\n",
      "tatasinke | 1\n",
      "-Belon- | 1\n",
      "wostmardin | 1\n",
      "JimmyRiddle707 | 1\n",
      "TehSpaceGiraffe | 1\n",
      "Pinkerton891 | 1\n",
      "Ugandan-Kermit | 1\n",
      "GrandmasterYoda1 | 1\n",
      "MrJoshua_182 | 1\n",
      "SaintFPL | 1\n",
      "soverign_cheese | 1\n",
      "Anglo-fornian | 1\n",
      "rustychuff | 1\n",
      "K3GGY | 1\n",
      "Distinct_Sink_6880 | 1\n",
      "LewisJP1998 | 1\n",
      "breakingthru | 1\n",
      "Mitestrix | 1\n",
      "ohnonotagain343 | 1\n",
      "Intermittent-Thinker | 1\n",
      "dessamavididi | 1\n",
      "Bus-Ready | 1\n",
      "AliDiaaa | 1\n",
      "MisterFreddo | 1\n",
      "Tspecs05 | 1\n",
      "SylvianSylvian | 1\n",
      "senpaifrankucomeback | 1\n",
      "MonarchyBoner | 1\n",
      "MrRyan1320 | 1\n",
      "InfernoTurnip | 1\n",
      "MyoMike | 1\n",
      "Rob_Boss91 | 1\n",
      "darave123 | 1\n",
      "J_Dymond | 1\n",
      "Squm9 | 1\n",
      "kbwis | 1\n",
      "AryLink1990 | 1\n",
      "jakeyboy723 | 1\n",
      "fletch6h | 1\n",
      "BanjoPants74 | 1\n",
      "saintstu | 1\n",
      "Couchy333 | 1\n",
      "BobMcCully | 1\n",
      "_Bluestar_Bus_Soton_ | 1\n",
      "supero_ | 1\n"
     ]
    }
   ],
   "source": [
    "print(thread.selftext)"
   ]
  },
  {
   "cell_type": "code",
   "execution_count": 8,
   "metadata": {},
   "outputs": [
    {
     "name": "stdout",
     "output_type": "stream",
     "text": [
      "True\n",
      "False\n",
      "False\n",
      "False\n",
      "False\n",
      "False\n",
      "True\n",
      "True\n",
      "False\n",
      "True\n"
     ]
    }
   ],
   "source": [
    "match_time = datetime.datetime(2023, 1, 21, 0, 0, 0)\n",
    "for comment in thread.comments[:10]:\n",
    "    print(pt.comment_created_before(match_time, comment))"
   ]
  },
  {
   "cell_type": "code",
   "execution_count": 11,
   "metadata": {},
   "outputs": [
    {
     "ename": "AttributeError",
     "evalue": "'Comment' object has no attribute 'user'",
     "output_type": "error",
     "traceback": [
      "\u001b[0;31m---------------------------------------------------------------------------\u001b[0m",
      "\u001b[0;31mAttributeError\u001b[0m                            Traceback (most recent call last)",
      "\u001b[0;32m<ipython-input-11-586406eb5e7d>\u001b[0m in \u001b[0;36m<module>\u001b[0;34m\u001b[0m\n\u001b[1;32m     12\u001b[0m \u001b[0mvalid_comments\u001b[0m \u001b[0;34m=\u001b[0m \u001b[0mpt\u001b[0m\u001b[0;34m.\u001b[0m\u001b[0mfiltered_comments\u001b[0m\u001b[0;34m(\u001b[0m\u001b[0mthread\u001b[0m\u001b[0;34m.\u001b[0m\u001b[0mcomments\u001b[0m\u001b[0;34m,\u001b[0m \u001b[0;34m*\u001b[0m\u001b[0mconditions\u001b[0m\u001b[0;34m)\u001b[0m\u001b[0;34m\u001b[0m\u001b[0;34m\u001b[0m\u001b[0m\n\u001b[1;32m     13\u001b[0m \u001b[0;34m\u001b[0m\u001b[0m\n\u001b[0;32m---> 14\u001b[0;31m \u001b[0mpt\u001b[0m\u001b[0;34m.\u001b[0m\u001b[0mreddit\u001b[0m\u001b[0;34m.\u001b[0m\u001b[0musername_comment_body_dict\u001b[0m\u001b[0;34m(\u001b[0m\u001b[0mvalid_comments\u001b[0m\u001b[0;34m)\u001b[0m\u001b[0;34m\u001b[0m\u001b[0;34m\u001b[0m\u001b[0m\n\u001b[0m\u001b[1;32m     15\u001b[0m \u001b[0;34m\u001b[0m\u001b[0m\n\u001b[1;32m     16\u001b[0m \u001b[0;31m# tuple(pt.parse._first_two_ints_in_comment(c.body) for c in valid_comments)\u001b[0m\u001b[0;34m\u001b[0m\u001b[0;34m\u001b[0m\u001b[0;34m\u001b[0m\u001b[0m\n",
      "\u001b[0;32m~/Projects/predthread/src/predthread/reddit.py\u001b[0m in \u001b[0;36musername_comment_body_dict\u001b[0;34m(comments)\u001b[0m\n\u001b[1;32m     47\u001b[0m \u001b[0;34m\u001b[0m\u001b[0m\n\u001b[1;32m     48\u001b[0m \u001b[0;32mdef\u001b[0m \u001b[0musername_comment_body_dict\u001b[0m\u001b[0;34m(\u001b[0m\u001b[0mcomments\u001b[0m\u001b[0;34m)\u001b[0m\u001b[0;34m:\u001b[0m\u001b[0;34m\u001b[0m\u001b[0;34m\u001b[0m\u001b[0m\n\u001b[0;32m---> 49\u001b[0;31m     \u001b[0;32mreturn\u001b[0m \u001b[0;34m{\u001b[0m\u001b[0mc\u001b[0m\u001b[0;34m.\u001b[0m\u001b[0muser\u001b[0m\u001b[0;34m.\u001b[0m\u001b[0mname\u001b[0m\u001b[0;34m:\u001b[0m \u001b[0mc\u001b[0m\u001b[0;34m.\u001b[0m\u001b[0mbody\u001b[0m \u001b[0;32mfor\u001b[0m \u001b[0mc\u001b[0m \u001b[0;32min\u001b[0m \u001b[0mcomments\u001b[0m\u001b[0;34m}\u001b[0m\u001b[0;34m\u001b[0m\u001b[0;34m\u001b[0m\u001b[0m\n\u001b[0m",
      "\u001b[0;32m~/Projects/predthread/src/predthread/reddit.py\u001b[0m in \u001b[0;36m<dictcomp>\u001b[0;34m(.0)\u001b[0m\n\u001b[1;32m     47\u001b[0m \u001b[0;34m\u001b[0m\u001b[0m\n\u001b[1;32m     48\u001b[0m \u001b[0;32mdef\u001b[0m \u001b[0musername_comment_body_dict\u001b[0m\u001b[0;34m(\u001b[0m\u001b[0mcomments\u001b[0m\u001b[0;34m)\u001b[0m\u001b[0;34m:\u001b[0m\u001b[0;34m\u001b[0m\u001b[0;34m\u001b[0m\u001b[0m\n\u001b[0;32m---> 49\u001b[0;31m     \u001b[0;32mreturn\u001b[0m \u001b[0;34m{\u001b[0m\u001b[0mc\u001b[0m\u001b[0;34m.\u001b[0m\u001b[0muser\u001b[0m\u001b[0;34m.\u001b[0m\u001b[0mname\u001b[0m\u001b[0;34m:\u001b[0m \u001b[0mc\u001b[0m\u001b[0;34m.\u001b[0m\u001b[0mbody\u001b[0m \u001b[0;32mfor\u001b[0m \u001b[0mc\u001b[0m \u001b[0;32min\u001b[0m \u001b[0mcomments\u001b[0m\u001b[0;34m}\u001b[0m\u001b[0;34m\u001b[0m\u001b[0;34m\u001b[0m\u001b[0m\n\u001b[0m",
      "\u001b[0;32m/Library/Frameworks/Python.framework/Versions/3.9/lib/python3.9/site-packages/praw/models/reddit/base.py\u001b[0m in \u001b[0;36m__getattr__\u001b[0;34m(self, attribute)\u001b[0m\n\u001b[1;32m     34\u001b[0m             \u001b[0mself\u001b[0m\u001b[0;34m.\u001b[0m\u001b[0m_fetch\u001b[0m\u001b[0;34m(\u001b[0m\u001b[0;34m)\u001b[0m\u001b[0;34m\u001b[0m\u001b[0;34m\u001b[0m\u001b[0m\n\u001b[1;32m     35\u001b[0m             \u001b[0;32mreturn\u001b[0m \u001b[0mgetattr\u001b[0m\u001b[0;34m(\u001b[0m\u001b[0mself\u001b[0m\u001b[0;34m,\u001b[0m \u001b[0mattribute\u001b[0m\u001b[0;34m)\u001b[0m\u001b[0;34m\u001b[0m\u001b[0;34m\u001b[0m\u001b[0m\n\u001b[0;32m---> 36\u001b[0;31m         raise AttributeError(\n\u001b[0m\u001b[1;32m     37\u001b[0m             \u001b[0;34mf\"{self.__class__.__name__!r} object has no attribute {attribute!r}\"\u001b[0m\u001b[0;34m\u001b[0m\u001b[0;34m\u001b[0m\u001b[0m\n\u001b[1;32m     38\u001b[0m         )\n",
      "\u001b[0;31mAttributeError\u001b[0m: 'Comment' object has no attribute 'user'"
     ]
    }
   ],
   "source": [
    "url =  \"https://www.reddit.com/r/SaintsFC/comments/10hibga/prediction_thread_week_20_southampton_aston_villa/\"\n",
    "comments = pt.open_thread(reddit, url)\n",
    "match_time = datetime.datetime(2023, 1, 21, 8, 0, 0)\n",
    "lineups_posted_time = match_time - datetime.timedelta(hours=1)\n",
    "\n",
    "before_lineups_posted = partial(pt.comment_created_before, match_time)\n",
    "conditions = (\n",
    "    pt.comment_author_not_none, \n",
    "    before_lineups_posted\n",
    ")\n",
    "\n",
    "valid_comments = pt.filtered_comments(thread.comments, *conditions)\n",
    "\n",
    "pt.reddit.username_comment_body_dict(valid_comments)\n",
    "\n",
    "# tuple(pt.parse._first_two_ints_in_comment(c.body) for c in valid_comments)"
   ]
  },
  {
   "cell_type": "code",
   "execution_count": 13,
   "metadata": {},
   "outputs": [
    {
     "ename": "AttributeError",
     "evalue": "module 'predthread' has no attribute 'predictions'",
     "output_type": "error",
     "traceback": [
      "\u001b[0;31m---------------------------------------------------------------------------\u001b[0m",
      "\u001b[0;31mAttributeError\u001b[0m                            Traceback (most recent call last)",
      "\u001b[0;32m<ipython-input-13-c0606bde8331>\u001b[0m in \u001b[0;36m<module>\u001b[0;34m\u001b[0m\n\u001b[0;32m----> 1\u001b[0;31m \u001b[0mpt\u001b[0m\u001b[0;34m.\u001b[0m\u001b[0mpredictions\u001b[0m\u001b[0;34m(\u001b[0m\u001b[0mvalid_comments\u001b[0m\u001b[0;34m)\u001b[0m\u001b[0;34m\u001b[0m\u001b[0;34m\u001b[0m\u001b[0m\n\u001b[0m",
      "\u001b[0;31mAttributeError\u001b[0m: module 'predthread' has no attribute 'predictions'"
     ]
    }
   ],
   "source": [
    "pt.predictions(valid_comments)"
   ]
  },
  {
   "cell_type": "code",
   "execution_count": 18,
   "metadata": {},
   "outputs": [
    {
     "data": {
      "text/plain": [
       "praw.models.reddit.comment.Comment"
      ]
     },
     "execution_count": 18,
     "metadata": {},
     "output_type": "execute_result"
    }
   ],
   "source": [
    "type(list(c for c in thread.comments)[0]u"
   ]
  },
  {
   "cell_type": "code",
   "execution_count": null,
   "metadata": {},
   "outputs": [],
   "source": []
  }
 ],
 "metadata": {
  "kernelspec": {
   "display_name": "Python 3",
   "language": "python",
   "name": "python3"
  },
  "language_info": {
   "codemirror_mode": {
    "name": "ipython",
    "version": 3
   },
   "file_extension": ".py",
   "mimetype": "text/x-python",
   "name": "python",
   "nbconvert_exporter": "python",
   "pygments_lexer": "ipython3",
   "version": "3.9.5"
  },
  "orig_nbformat": 4,
  "vscode": {
   "interpreter": {
    "hash": "7812ea015bdcee6f23a998adcdd2ef97c151c0c241b7b7070987d9313e41299d"
   }
  }
 },
 "nbformat": 4,
 "nbformat_minor": 2
}
